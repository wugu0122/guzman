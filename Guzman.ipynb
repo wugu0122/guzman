{
 "cells": [
  {
   "cell_type": "code",
   "execution_count": 170,
   "metadata": {},
   "outputs": [],
   "source": [
    "import datetime\n",
    "from datetime import timedelta\n",
    "from dateutil.relativedelta import relativedelta\n",
    "import calendar\n"
   ]
  },
  {
   "cell_type": "code",
   "execution_count": 409,
   "metadata": {},
   "outputs": [],
   "source": [
    "class PowerCalendar:\n",
    "    \n",
    "    def __init__(self, iso = 'PJM', peak_type = 'onpeak', period = '2018-2-3'):\n",
    "        \n",
    "        self.iso = iso\n",
    "        self.peak_type = peak_type\n",
    "        \n",
    "        if '-' in period:\n",
    "            self.start_date = datetime.datetime.strptime(period, '%Y-%m-%d')\n",
    "            self.end_date  = datetime.datetime.strptime(period, '%Y-%m-%d')\n",
    "            \n",
    "        elif period[-1] == 'A':\n",
    "            self.start_date = datetime.datetime.strptime(period[:4] + '-1-1', '%Y-%m-%d')\n",
    "            self.end_date = datetime.datetime.strptime(period[:4] + '-12-31', '%Y-%m-%d')\n",
    "            \n",
    "        elif period[-2] == 'Q':\n",
    "            self.start_date = datetime.datetime(int(period[:4]), 3 * int(period[-1]) - 2, 1)\n",
    "            self.end_date = datetime.datetime(int(period[:4]), 3 * int(period[-1]) - 2, 1) + relativedelta(months=3, days=-1)\n",
    "            \n",
    "        else:\n",
    "            self.start_date = datetime.date(int(period[:4]), list(calendar.month_abbr).index(period[-3:]), 1)\n",
    "            self.end_date = datetime.date(int(period[:4]) + 1, 1 , 1) - datetime.timedelta(days=1) if \\\n",
    "            list(calendar.month_abbr).index(period[-3:]) == 12 \\\n",
    "            else datetime.date(int(period[:4]) ,list(calendar.month_abbr).index(period[-3:]) + 1 , 1) \\\n",
    "            - datetime.timedelta(days=1)\n",
    "            \n",
    "        self.duration = (self.end_date - self.start_date ).days + 1\n",
    "        \n",
    "        self.is_western = True if self.iso == 'WECC' or self.iso == 'CAISO' else False\n",
    "        self.daylight_saving =  self.get_daylight_saving(period) \n",
    "        self.holidays = self.holidays(period)\n",
    "        self.weekends = self.get_weekend_days()\n",
    "        self.number_of_offpeak_days = self.get_number_of_offpeak_days()\n",
    "        self.flat_hours = self.duration * 24 + self.daylight_saving\n",
    "        self.hours = self.hours()\n",
    "        \n",
    "    def daylight_saving_dates(self, period):\n",
    "\n",
    "        if calendar.Calendar(0).monthdatescalendar(int(period[:4]), 3)[0][-1] == 2:\n",
    "            sunMar = calendar.Calendar(0).monthdatescalendar(int(period[:4]), 3)[2][-1]\n",
    "        else:\n",
    "            sunMar = calendar.Calendar(0).monthdatescalendar(int(period[:4]), 3)[1][-1]\n",
    "        \n",
    "        if calendar.Calendar(0).monthdatescalendar(int(period[:4]), 11)[0][-1] == 10:\n",
    "            sunNov = calendar.Calendar(0).monthdatescalendar(int(period[:4]), 11)[1][-1]\n",
    "        else:\n",
    "            sunNov = calendar.Calendar(0).monthdatescalendar(int(period[:4]), 11)[0][-1]\n",
    "            \n",
    "        return sunMar, sunNov\n",
    "    \n",
    "    def get_daylight_saving(self,period):\n",
    "        \n",
    "        Mar, Nov = self.daylight_saving_dates(period)\n",
    "        \n",
    "        if period[-1] == 'A' or self.iso == 'MISO' or period[-2:] == 'Q2' or period[-2:] == 'Q3':\n",
    "            return 0\n",
    "        elif period[-3:] == 'Mar' or  period[-2:] == 'Q1' or self.start_date == Mar:\n",
    "            return -1\n",
    "        elif period[-3:] == 'Nov' or  period[-2:] == 'Q4' or self.start_date == Nov:\n",
    "            return 1\n",
    "        else:\n",
    "            return 0\n",
    "        \n",
    "    def hours(self):\n",
    "        \n",
    "        if self.peak_type == 'flat':\n",
    "            return self.flat_hours\n",
    "        elif self.peak_type == 'onpeak':\n",
    "            return 16 * (self.duration - self.number_of_offpeak_days)\n",
    "        elif self.peak_type == 'offpeak':\n",
    "            return self.flat_hours - 16 * (self.duration - self.number_of_offpeak_days)\n",
    "        elif self.peak_type == '7x8':\n",
    "            return self.duration * 8 + self.daylight_saving\n",
    "        else:\n",
    "            return self.number_of_offpeak_days * 16\n",
    "            \n",
    "        \n",
    "    def holidays(self, period):\n",
    "        days = []\n",
    "        #New year\n",
    "        if datetime.date(int(period[:4]),1,1).weekday()== 6:\n",
    "            days.append(datetime.date(int(period[:4]),1,2))\n",
    "        else:\n",
    "            days.append(datetime.date(int(period[:4]),1,1))\n",
    "        # Memorial\n",
    "        days.append(calendar.Calendar(0).monthdatescalendar(int(period[:4]), 5)[-1][0])\n",
    "        # Independent\n",
    "        if datetime.date(int(period[:4]),7,4).weekday() == 6:\n",
    "            days.append(datetime.date(int(period[:4]),7,5))\n",
    "        elif datetime.date(int(period[:4]),7,4).weekday() == 5:\n",
    "            days.append(datetime.date(int(period[:4]),7,3))\n",
    "        else:\n",
    "            days.append(datetime.date(int(period[:4]),7,4))\n",
    "        # Labor\n",
    "        if calendar.Calendar(0).monthdatescalendar(int(period[:4]), 9)[0][0].month == 8:\n",
    "            days.append(calendar.Calendar(0).monthdatescalendar(int(period[:4]), 9)[1][0])\n",
    "        else:\n",
    "            days.append(calendar.Calendar(0).monthdatescalendar(int(period[:4]), 9)[0][0])\n",
    "        # Thanksgiving\n",
    "        if calendar.Calendar(0).monthdatescalendar(int(period[:4]), 11)[4][3].month == 12:\n",
    "            days.append(calendar.Calendar(0).monthdatescalendar(int(period[:4]), 11)[3][3])\n",
    "        else:\n",
    "            days.append(calendar.Calendar(0).monthdatescalendar(int(period[:4]), 11)[4][3])\n",
    "        #Chrismas\n",
    "        if datetime.date(int(period[:4]),12,25).weekday() == 5:\n",
    "            days.append(datetime.date(int(period[:4]),12,24))\n",
    "        elif datetime.date(int(period[:4]),12,25).weekday() == 6:\n",
    "            days.append(datetime.date(int(period[:4]),12,26))\n",
    "        else:\n",
    "            days.append(datetime.date(int(period[:4]),12,25))\n",
    "        return days\n",
    "    \n",
    "    def get_weekend_days(self):\n",
    "        days = []\n",
    "        for i in range(self.duration):\n",
    "            if (self.start_date + datetime.timedelta(i)).weekday() == 6:\n",
    "                days.append(self.start_date + datetime.timedelta(i))\n",
    "            elif (self.start_date + datetime.timedelta(i)).weekday() == 5 and self.is_western == False:\n",
    "                days.append(self.start_date + datetime.timedelta(i))\n",
    "        return days\n",
    "    \n",
    "    def get_number_of_offpeak_days(self):\n",
    "        \n",
    "        number_of_days = 0\n",
    "        offdays = []\n",
    "        for i in self.holidays:\n",
    "            offdays.append(i.strftime('%Y-%m-%d'))\n",
    "        for i in self.weekends:\n",
    "            offdays.append(i.strftime('%Y-%m-%d'))\n",
    "        for i in range(self.duration):\n",
    "            if (self.start_date + datetime.timedelta(i)).strftime('%Y-%m-%d') in offdays:\n",
    "                number_of_days += 1\n",
    "        return number_of_days\n",
    "    \n",
    "    def get_hours(self):\n",
    "        print([self.iso,self.peak_type, self.start_date.strftime('%Y-%m-%d'), self.end_date.strftime('%Y-%m-%d'), self.hours])"
   ]
  },
  {
   "cell_type": "code",
   "execution_count": 410,
   "metadata": {},
   "outputs": [],
   "source": [
    "cc = PowerCalendar(iso = \"CAISO\", peak_type = 'offpeak', period = '2021A')"
   ]
  },
  {
   "cell_type": "code",
   "execution_count": 411,
   "metadata": {},
   "outputs": [
    {
     "name": "stdout",
     "output_type": "stream",
     "text": [
      "['CAISO', 'offpeak', '2021-01-01', '2021-12-31', 3848]\n"
     ]
    }
   ],
   "source": [
    "cc.get_hours()"
   ]
  },
  {
   "cell_type": "code",
   "execution_count": 367,
   "metadata": {},
   "outputs": [
    {
     "data": {
      "text/plain": [
       "[datetime.date(2021, 1, 1),\n",
       " datetime.date(2021, 5, 31),\n",
       " datetime.date(2021, 7, 4),\n",
       " datetime.date(2021, 9, 6),\n",
       " datetime.date(2021, 11, 25),\n",
       " datetime.date(2021, 12, 24)]"
      ]
     },
     "execution_count": 367,
     "metadata": {},
     "output_type": "execute_result"
    }
   ],
   "source": [
    "cc.holidays"
   ]
  },
  {
   "cell_type": "code",
   "execution_count": 368,
   "metadata": {},
   "outputs": [
    {
     "data": {
      "text/plain": [
       "[datetime.datetime(2021, 1, 3, 0, 0),\n",
       " datetime.datetime(2021, 1, 10, 0, 0),\n",
       " datetime.datetime(2021, 1, 17, 0, 0),\n",
       " datetime.datetime(2021, 1, 24, 0, 0),\n",
       " datetime.datetime(2021, 1, 31, 0, 0),\n",
       " datetime.datetime(2021, 2, 7, 0, 0),\n",
       " datetime.datetime(2021, 2, 14, 0, 0),\n",
       " datetime.datetime(2021, 2, 21, 0, 0),\n",
       " datetime.datetime(2021, 2, 28, 0, 0),\n",
       " datetime.datetime(2021, 3, 7, 0, 0),\n",
       " datetime.datetime(2021, 3, 14, 0, 0),\n",
       " datetime.datetime(2021, 3, 21, 0, 0),\n",
       " datetime.datetime(2021, 3, 28, 0, 0)]"
      ]
     },
     "execution_count": 368,
     "metadata": {},
     "output_type": "execute_result"
    }
   ],
   "source": [
    "cc.weekends"
   ]
  },
  {
   "cell_type": "code",
   "execution_count": 356,
   "metadata": {},
   "outputs": [
    {
     "data": {
      "text/plain": [
       "13"
      ]
     },
     "execution_count": 356,
     "metadata": {},
     "output_type": "execute_result"
    }
   ],
   "source": [
    "number_of_days = 0\n",
    "for i in range(cc.duration):\n",
    "    if (cc.start_date + datetime.timedelta(i) in cc.holidays)or (cc.start_date + datetime.timedelta(i) in cc.weekends):\n",
    "        number_of_days +=1\n",
    "number_of_days"
   ]
  },
  {
   "cell_type": "code",
   "execution_count": 345,
   "metadata": {},
   "outputs": [
    {
     "data": {
      "text/plain": [
       "90"
      ]
     },
     "execution_count": 345,
     "metadata": {},
     "output_type": "execute_result"
    }
   ],
   "source": [
    "cc.duration"
   ]
  },
  {
   "cell_type": "code",
   "execution_count": 359,
   "metadata": {},
   "outputs": [
    {
     "data": {
      "text/plain": [
       "datetime.datetime(2021, 1, 1, 0, 0)"
      ]
     },
     "execution_count": 359,
     "metadata": {},
     "output_type": "execute_result"
    }
   ],
   "source": [
    "cc.start_date + datetime.timedelta(0)"
   ]
  },
  {
   "cell_type": "code",
   "execution_count": null,
   "metadata": {},
   "outputs": [],
   "source": []
  }
 ],
 "metadata": {
  "kernelspec": {
   "display_name": "Python 3",
   "language": "python",
   "name": "python3"
  },
  "language_info": {
   "codemirror_mode": {
    "name": "ipython",
    "version": 3
   },
   "file_extension": ".py",
   "mimetype": "text/x-python",
   "name": "python",
   "nbconvert_exporter": "python",
   "pygments_lexer": "ipython3",
   "version": "3.6.8"
  }
 },
 "nbformat": 4,
 "nbformat_minor": 4
}
